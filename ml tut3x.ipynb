{
 "cells": [
  {
   "cell_type": "code",
   "execution_count": 3,
   "id": "877f3034",
   "metadata": {},
   "outputs": [
    {
     "name": "stdout",
     "output_type": "stream",
     "text": [
      "hello world 12\n",
      "Hello world 12\n"
     ]
    }
   ],
   "source": [
    "x = '%s %s %d' % ('hello', 'world', 12)\n",
    "print(x)\n",
    "print(x.capitalize())"
   ]
  },
  {
   "cell_type": "code",
   "execution_count": 4,
   "id": "68ce3681",
   "metadata": {},
   "outputs": [
    {
     "name": "stdout",
     "output_type": "stream",
     "text": [
      "HELLO WORLD 12\n",
      "      hello world 12\n",
      "$$$hello world 12$$$\n"
     ]
    }
   ],
   "source": [
    "print(x.upper())\n",
    "txt = x.rjust(20)\n",
    "print(txt)\n",
    "y = x.center(20, '$')\n",
    "print(y)"
   ]
  },
  {
   "cell_type": "code",
   "execution_count": 5,
   "id": "d2b352ba",
   "metadata": {},
   "outputs": [
    {
     "name": "stdout",
     "output_type": "stream",
     "text": [
      "[2, 3]\n",
      "[0, 1, 2, 3, 4]\n",
      "[0, 1, 2, 3]\n",
      "[2, 3, 4]\n",
      "[0, 1, 2, 3, 4]\n",
      "[0, 1, 2, 3]\n"
     ]
    }
   ],
   "source": [
    "num = list(range(5))\n",
    "print(num[2:4])\n",
    "print(num)\n",
    "print(num[:4])\n",
    "print(num[2:])\n",
    "print(num[:])\n",
    "print(num[:-1])"
   ]
  },
  {
   "cell_type": "code",
   "execution_count": 6,
   "id": "e4a7da15",
   "metadata": {},
   "outputs": [
    {
     "name": "stdout",
     "output_type": "stream",
     "text": [
      "Senas age is:  26\n",
      "I am sena and i am strong enough\n"
     ]
    }
   ],
   "source": [
    "x = 2022 - 1997\n",
    "y = 'I am sena'\n",
    "z = 45.2\n",
    "\n",
    "if z<4:\n",
    "    print('z is larger than 4')\n",
    "elif z == 45.2 or y == 'I am not sena':\n",
    "    x +=1\n",
    "    y = y + '' + \" and i am strong enough\"\n",
    "    print('Senas age is: ', x)\n",
    "    print(y)\n",
    "else:\n",
    "    print(' i dont know')\n",
    "    \n"
   ]
  },
  {
   "cell_type": "code",
   "execution_count": 7,
   "id": "c2ac69ba",
   "metadata": {},
   "outputs": [
    {
     "name": "stdout",
     "output_type": "stream",
     "text": [
      "#1: apple\n",
      "#2: banana\n",
      "#3: strawberry\n",
      "#4: coffee\n"
     ]
    }
   ],
   "source": [
    "list = ['apple', 'banana', 'strawberry', 'coffee']\n",
    "for i, j in enumerate(list):\n",
    "    print('#%d: %s' % (i +1, j))"
   ]
  },
  {
   "cell_type": "code",
   "execution_count": 8,
   "id": "b9cb11b2",
   "metadata": {},
   "outputs": [],
   "source": [
    "import csv\n",
    "file_name = '/Users/senaakpalamut/Desktop/Tutorial_3_data.csv'\n",
    "data =[]\n",
    "header = []\n",
    "\n",
    "csv_file = open(file_name)\n",
    "csvreader = csv.reader(csv_file)\n",
    "header = next(csvreader)\n",
    "\n",
    "for row in csvreader:\n",
    "    data.append(row)"
   ]
  },
  {
   "cell_type": "code",
   "execution_count": 9,
   "id": "8de9bbc2",
   "metadata": {},
   "outputs": [
    {
     "name": "stdout",
     "output_type": "stream",
     "text": [
      "<class 'list'>\n",
      "3.0\n"
     ]
    }
   ],
   "source": [
    "x2 = data[0:4]\n",
    "print(type(x2))\n",
    "x3 = 3\n",
    "x3 = float(x3)\n",
    "print(x3)"
   ]
  },
  {
   "cell_type": "code",
   "execution_count": 10,
   "id": "b4e0a624",
   "metadata": {},
   "outputs": [
    {
     "name": "stdout",
     "output_type": "stream",
     "text": [
      "25.657\n"
     ]
    }
   ],
   "source": [
    "x= float('25.657')\n",
    "print(x)"
   ]
  },
  {
   "cell_type": "code",
   "execution_count": 14,
   "id": "df2ce664",
   "metadata": {},
   "outputs": [
    {
     "data": {
      "image/png": "[encoded data removed]",
      "text/plain": [
       "<Figure size 432x288 with 1 Axes>"
      ]
     },
     "metadata": {
      "needs_background": "light"
     },
     "output_type": "display_data"
    }
   ],
   "source": [
    "import matplotlib.pyplot as plt\n",
    "x = [float(t) for t in data[0]]\n",
    "y = [float(t) for t in data[1]]\n",
    "plt.plot(x,y)\n",
    "plt.show()"
   ]
  },
  {
   "cell_type": "code",
   "execution_count": null,
   "id": "5345bd67",
   "metadata": {},
   "outputs": [],
   "source": []
  }
 ],
 "metadata": {
  "kernelspec": {
   "display_name": "Python 3 (ipykernel)",
   "language": "python",
   "name": "python3"
  },
  "language_info": {
   "codemirror_mode": {
    "name": "ipython",
    "version": 3
   },
   "file_extension": ".py",
   "mimetype": "text/x-python",
   "name": "python",
   "nbconvert_exporter": "python",
   "pygments_lexer": "ipython3",
   "version": "3.9.12"
  }
 },
 "nbformat": 4,
 "nbformat_minor": 5
}
